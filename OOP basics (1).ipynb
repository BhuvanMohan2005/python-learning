{
 "cells": [
  {
   "cell_type": "code",
   "execution_count": 7,
   "id": "55b15f5d-7703-4705-ab4b-d6942254f63f",
   "metadata": {},
   "outputs": [],
   "source": [
    "class Dog():\n",
    "    species='mammal'\n",
    "    def __init__(self,name,breed):\n",
    "        self.name=name\n",
    "        self.breed=breed\n",
    "    def name_is(self):\n",
    "        print('WOOF! my dog name is {}'.format(self.name))"
   ]
  },
  {
   "cell_type": "code",
   "execution_count": 11,
   "id": "427822ac-c339-4058-a00c-c613275c20c1",
   "metadata": {},
   "outputs": [],
   "source": [
    "my_dog=Dog('Pluto','lab')"
   ]
  },
  {
   "cell_type": "code",
   "execution_count": 21,
   "id": "eae66e33-e27f-41aa-9678-72b9b9eeb040",
   "metadata": {},
   "outputs": [
    {
     "name": "stdout",
     "output_type": "stream",
     "text": [
      "WOOF! my dog name is Pluto\n"
     ]
    }
   ],
   "source": [
    "my_dog.name_is()"
   ]
  },
  {
   "cell_type": "code",
   "execution_count": 23,
   "id": "12356d68-5e21-4c9d-85cb-41731b8cc773",
   "metadata": {},
   "outputs": [
    {
     "data": {
      "text/plain": [
       "'Pluto'"
      ]
     },
     "execution_count": 23,
     "metadata": {},
     "output_type": "execute_result"
    }
   ],
   "source": [
    "my_dog.name"
   ]
  },
  {
   "cell_type": "code",
   "execution_count": 25,
   "id": "bb9f768f-9916-4886-a552-825b234ab2b5",
   "metadata": {},
   "outputs": [
    {
     "data": {
      "text/plain": [
       "'lab'"
      ]
     },
     "execution_count": 25,
     "metadata": {},
     "output_type": "execute_result"
    }
   ],
   "source": [
    "my_dog.breed"
   ]
  },
  {
   "cell_type": "code",
   "execution_count": 31,
   "id": "08700bef-0fef-4086-bb18-9eac5a61a841",
   "metadata": {},
   "outputs": [
    {
     "data": {
      "text/plain": [
       "'mammal'"
      ]
     },
     "execution_count": 31,
     "metadata": {},
     "output_type": "execute_result"
    }
   ],
   "source": [
    "my_dog.species"
   ]
  },
  {
   "cell_type": "code",
   "execution_count": 129,
   "id": "3f8f7987-b071-4f6a-b19c-6c9fc12babac",
   "metadata": {},
   "outputs": [],
   "source": [
    "class Animal():\n",
    "    def __init__(self,name):\n",
    "        print('U r in Animal cls')\n",
    "        self.name=name\n",
    "    def legs(self):\n",
    "        print('I have 4 legs {}'.format(self.name))\n",
    "class Dog(Animal):\n",
    "    def __init__(self,name):\n",
    "        print('u r in dog class')\n",
    "        self.name=name\n",
    "    def legs(self):\n",
    "        print('I dont have 4 legs {}'.format(self.name))"
   ]
  },
  {
   "cell_type": "code",
   "execution_count": 131,
   "id": "0ce4cf22-74b5-4668-a1c1-ddd4f567536f",
   "metadata": {},
   "outputs": [
    {
     "name": "stdout",
     "output_type": "stream",
     "text": [
      "U r in Animal cls\n"
     ]
    }
   ],
   "source": [
    "my_dog=Animal('dog')"
   ]
  },
  {
   "cell_type": "code",
   "execution_count": 133,
   "id": "6fb3006a-ff7f-4469-96be-38c44cf21264",
   "metadata": {},
   "outputs": [
    {
     "name": "stdout",
     "output_type": "stream",
     "text": [
      "I have 4 legs dog\n"
     ]
    }
   ],
   "source": [
    "my_dog.legs()"
   ]
  },
  {
   "cell_type": "code",
   "execution_count": 135,
   "id": "490630ca-44f3-4cc5-a6b2-4881b38f4900",
   "metadata": {},
   "outputs": [
    {
     "name": "stdout",
     "output_type": "stream",
     "text": [
      "u r in dog class\n"
     ]
    }
   ],
   "source": [
    "temp=Dog('pluto')"
   ]
  },
  {
   "cell_type": "code",
   "execution_count": 137,
   "id": "72b224a1-e9a6-4a8d-9b82-a4ffe2d74efe",
   "metadata": {},
   "outputs": [
    {
     "name": "stdout",
     "output_type": "stream",
     "text": [
      "I dont have 4 legs pluto\n"
     ]
    }
   ],
   "source": [
    "temp.legs()"
   ]
  },
  {
   "cell_type": "code",
   "execution_count": null,
   "id": "1845a75c-f2b7-4e0c-bc5f-5394a403bf08",
   "metadata": {},
   "outputs": [],
   "source": []
  }
 ],
 "metadata": {
  "kernelspec": {
   "display_name": "Python 3 (ipykernel)",
   "language": "python",
   "name": "python3"
  },
  "language_info": {
   "codemirror_mode": {
    "name": "ipython",
    "version": 3
   },
   "file_extension": ".py",
   "mimetype": "text/x-python",
   "name": "python",
   "nbconvert_exporter": "python",
   "pygments_lexer": "ipython3",
   "version": "3.12.7"
  }
 },
 "nbformat": 4,
 "nbformat_minor": 5
}

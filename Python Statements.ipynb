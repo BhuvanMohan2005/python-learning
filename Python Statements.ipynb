{
 "cells": [
  {
   "cell_type": "code",
   "execution_count": 3,
   "id": "b40b48f2-496a-42fa-acd1-ff78c182333e",
   "metadata": {},
   "outputs": [
    {
     "name": "stdout",
     "output_type": "stream",
     "text": [
      "1\n",
      "2\n",
      "3\n",
      "4\n",
      "5\n",
      "6\n"
     ]
    }
   ],
   "source": [
    "mylist = [1,2,3,4,5,6]\n",
    "for a in mylist:\n",
    "    print (a)"
   ]
  },
  {
   "cell_type": "code",
   "execution_count": 7,
   "id": "4aed3c6a-a44e-445e-941d-8b25939ecb12",
   "metadata": {},
   "outputs": [
    {
     "name": "stdout",
     "output_type": "stream",
     "text": [
      "The sum of two num is 3\n",
      "The sum of two num is 7\n",
      "The sum of two num is 11\n"
     ]
    }
   ],
   "source": [
    "tup=[(1,2),(3,4),(5,6)]\n",
    "for a,b in tup:\n",
    "    print (f'The sum of two num is {a+b}')"
   ]
  },
  {
   "cell_type": "code",
   "execution_count": 21,
   "id": "3f03af7f-a134-434f-84ad-79ef79fb0ed7",
   "metadata": {},
   "outputs": [
    {
     "name": "stdout",
     "output_type": "stream",
     "text": [
      "Helllo\n",
      "Helllo\n",
      "Helllo\n",
      "Helllo\n",
      "Loop is defined\n"
     ]
    }
   ],
   "source": [
    "name='Bhuvan'\n",
    "for s in name:\n",
    "    if s=='a':\n",
    "        break\n",
    "    else:\n",
    "        print('Helllo')\n",
    "print('Loop is defined')"
   ]
  },
  {
   "cell_type": "code",
   "execution_count": 57,
   "id": "2ef06ae4-0008-425d-82dc-fe21bc7219cf",
   "metadata": {},
   "outputs": [
    {
     "name": "stdout",
     "output_type": "stream",
     "text": [
      "B\n",
      "0\n",
      "\n",
      "\n",
      "h\n",
      "1\n",
      "\n",
      "\n",
      "u\n",
      "2\n",
      "\n",
      "\n",
      "v\n",
      "3\n",
      "\n",
      "\n",
      "a\n",
      "4\n",
      "\n",
      "\n",
      "n\n",
      "5\n",
      "\n",
      "\n",
      "end\n"
     ]
    }
   ],
   "source": [
    "word ='Bhuvan'\n",
    "count=0\n",
    "for index,letter in enumerate(word):\n",
    "    print (letter)\n",
    "    print(index )\n",
    "    print('\\n')\n",
    "    \n",
    "print ('end')"
   ]
  },
  {
   "cell_type": "code",
   "execution_count": 70,
   "id": "c2c8f02a-be97-4634-99f9-ba4cf73cd6fd",
   "metadata": {},
   "outputs": [
    {
     "data": {
      "text/plain": [
       "22"
      ]
     },
     "execution_count": 70,
     "metadata": {},
     "output_type": "execute_result"
    }
   ],
   "source": [
    "from random import randint\n",
    "randint(1,30)"
   ]
  },
  {
   "cell_type": "code",
   "execution_count": 80,
   "id": "2fa06b6b-fd11-4611-a5a1-1acbb152c0e9",
   "metadata": {},
   "outputs": [
    {
     "data": {
      "text/plain": [
       "[1, 5, 6, 2, 3, 4]"
      ]
     },
     "execution_count": 80,
     "metadata": {},
     "output_type": "execute_result"
    }
   ],
   "source": [
    "from random import shuffle \n",
    "random_list=shuffle(mylist)\n",
    "mylist "
   ]
  },
  {
   "cell_type": "code",
   "execution_count": 82,
   "id": "5372266a-2b6c-4d80-b0f0-c0426d22d603",
   "metadata": {},
   "outputs": [
    {
     "name": "stdin",
     "output_type": "stream",
     "text": [
      "enter number? y\n"
     ]
    },
    {
     "data": {
      "text/plain": [
       "'y'"
      ]
     },
     "execution_count": 82,
     "metadata": {},
     "output_type": "execute_result"
    }
   ],
   "source": [
    "input(\"enter number?\")"
   ]
  },
  {
   "cell_type": "code",
   "execution_count": 86,
   "id": "3b97e2ae-c88c-4e1a-a194-94c165c3803c",
   "metadata": {},
   "outputs": [
    {
     "data": {
      "text/plain": [
       "[32.0, 113.0, 140.0, 109.76]"
      ]
     },
     "execution_count": 86,
     "metadata": {},
     "output_type": "execute_result"
    }
   ],
   "source": [
    "celcius=[0,45,60,43.2]\n",
    "fahrenheit= [((9/5)*temp+32) for temp in celcius ]\n",
    "fahrenheit"
   ]
  },
  {
   "cell_type": "code",
   "execution_count": 94,
   "id": "4563545b-f9b2-4e0a-a4fd-b7885156a5d2",
   "metadata": {},
   "outputs": [
    {
     "data": {
      "text/plain": [
       "[32.0, 113.0, 140.0, 109.76]"
      ]
     },
     "execution_count": 94,
     "metadata": {},
     "output_type": "execute_result"
    }
   ],
   "source": [
    "fahrenheit=[]\n",
    "for temp in celcius :\n",
    "    fahrenheit.append(((9/5)*temp+32))\n",
    "fahrenheit"
   ]
  },
  {
   "cell_type": "code",
   "execution_count": null,
   "id": "1de6a3bd-8985-4aa1-9198-8a4384fed16a",
   "metadata": {},
   "outputs": [],
   "source": []
  }
 ],
 "metadata": {
  "kernelspec": {
   "display_name": "Python 3 (ipykernel)",
   "language": "python",
   "name": "python3"
  },
  "language_info": {
   "codemirror_mode": {
    "name": "ipython",
    "version": 3
   },
   "file_extension": ".py",
   "mimetype": "text/x-python",
   "name": "python",
   "nbconvert_exporter": "python",
   "pygments_lexer": "ipython3",
   "version": "3.12.7"
  }
 },
 "nbformat": 4,
 "nbformat_minor": 5
}

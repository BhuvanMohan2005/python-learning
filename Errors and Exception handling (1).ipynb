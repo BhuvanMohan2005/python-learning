{
 "cells": [
  {
   "cell_type": "code",
   "execution_count": 114,
   "id": "8d5d6565-65d4-483f-b03e-5936c2296b99",
   "metadata": {},
   "outputs": [
    {
     "name": "stdout",
     "output_type": "stream",
     "text": [
      "Type error\n",
      "always\n"
     ]
    }
   ],
   "source": [
    "try : \n",
    "    list1=(1,2,3,4,'hi')\n",
    "    \n",
    "    list2=[1,2,3,4,'bye']\n",
    "    list3=list1+list2\n",
    "    print(list3)\n",
    "except :\n",
    "    print('Type error')\n",
    "\n",
    "finally :\n",
    "    print('always')\n",
    "    "
   ]
  },
  {
   "cell_type": "code",
   "execution_count": 49,
   "id": "a48c821b-4b23-47ad-bc56-f630b006bbe6",
   "metadata": {},
   "outputs": [
    {
     "name": "stdout",
     "output_type": "stream",
     "text": [
      "Overwriting myfile.txt\n"
     ]
    }
   ],
   "source": [
    "%%writefile myfile.txt \n",
    "Hello \n",
    "first line\n",
    "second line \n",
    "third line\n"
   ]
  },
  {
   "cell_type": "code",
   "execution_count": 45,
   "id": "2d3c5aa8-df50-49d7-bf01-97c97105dfa6",
   "metadata": {},
   "outputs": [],
   "source": [
    "myfile =open('myfile.txt')"
   ]
  },
  {
   "cell_type": "code",
   "execution_count": 47,
   "id": "0b3d26b5-ba47-427c-8c8f-7fe9a587ed0b",
   "metadata": {},
   "outputs": [
    {
     "data": {
      "text/plain": [
       "'/Users/hemasundhar'"
      ]
     },
     "execution_count": 47,
     "metadata": {},
     "output_type": "execute_result"
    }
   ],
   "source": [
    "pwd"
   ]
  },
  {
   "cell_type": "code",
   "execution_count": 55,
   "id": "6328a65c-cb51-40e7-a69b-f74e270ce18f",
   "metadata": {},
   "outputs": [
    {
     "data": {
      "text/plain": [
       "''"
      ]
     },
     "execution_count": 55,
     "metadata": {},
     "output_type": "execute_result"
    }
   ],
   "source": [
    "myfile.read()"
   ]
  },
  {
   "cell_type": "code",
   "execution_count": 59,
   "id": "3a43eb11-87fe-46ed-b803-c9181ddc2faf",
   "metadata": {},
   "outputs": [
    {
     "data": {
      "text/plain": [
       "0"
      ]
     },
     "execution_count": 59,
     "metadata": {},
     "output_type": "execute_result"
    }
   ],
   "source": [
    "myfile.seek(0)"
   ]
  },
  {
   "cell_type": "code",
   "execution_count": 61,
   "id": "c37dcf0d-8409-4d45-bf2f-3e0de29644fb",
   "metadata": {},
   "outputs": [
    {
     "data": {
      "text/plain": [
       "'Hello \\nfirst line\\nsecond line \\nthird line\\n'"
      ]
     },
     "execution_count": 61,
     "metadata": {},
     "output_type": "execute_result"
    }
   ],
   "source": [
    "myfile.read()"
   ]
  },
  {
   "cell_type": "code",
   "execution_count": 63,
   "id": "5be6e5c1-c914-4478-b546-cb45ec8527d2",
   "metadata": {},
   "outputs": [],
   "source": [
    "with open('myfile.txt') as new:\n",
    "    contents=new.read()"
   ]
  },
  {
   "cell_type": "code",
   "execution_count": 65,
   "id": "43cde923-bd60-45e5-878d-e3fbd5dabee4",
   "metadata": {},
   "outputs": [
    {
     "data": {
      "text/plain": [
       "'Hello \\nfirst line\\nsecond line \\nthird line\\n'"
      ]
     },
     "execution_count": 65,
     "metadata": {},
     "output_type": "execute_result"
    }
   ],
   "source": [
    "contents"
   ]
  },
  {
   "cell_type": "code",
   "execution_count": 67,
   "id": "c7bb9e3a-de9b-4bae-bd46-5420f18942c9",
   "metadata": {},
   "outputs": [],
   "source": [
    "myfile.close()"
   ]
  },
  {
   "cell_type": "code",
   "execution_count": 69,
   "id": "b30478a6-a790-4a0a-843d-5087c814ac5f",
   "metadata": {},
   "outputs": [
    {
     "data": {
      "text/plain": [
       "'Hello \\nfirst line\\nsecond line \\nthird line\\n'"
      ]
     },
     "execution_count": 69,
     "metadata": {},
     "output_type": "execute_result"
    }
   ],
   "source": [
    "contents"
   ]
  },
  {
   "cell_type": "code",
   "execution_count": 98,
   "id": "1f220921-a279-4638-9932-16214230a927",
   "metadata": {},
   "outputs": [],
   "source": [
    "with open('myfile.txt','r') as new:\n",
    "   contents=new.read()"
   ]
  },
  {
   "cell_type": "code",
   "execution_count": 100,
   "id": "a9b115a9-8502-4ec0-93b7-92af6a1c412b",
   "metadata": {},
   "outputs": [
    {
     "data": {
      "text/plain": [
       "''"
      ]
     },
     "execution_count": 100,
     "metadata": {},
     "output_type": "execute_result"
    }
   ],
   "source": [
    "contents"
   ]
  },
  {
   "cell_type": "code",
   "execution_count": 102,
   "id": "efd1a4d4-74e4-4565-92ca-465e2662ef0e",
   "metadata": {},
   "outputs": [
    {
     "name": "stdout",
     "output_type": "stream",
     "text": [
      "Overwriting myfile.txt\n"
     ]
    }
   ],
   "source": [
    "%%writefile myfile.txt\n",
    "hi \n",
    "this is updated version"
   ]
  },
  {
   "cell_type": "code",
   "execution_count": 104,
   "id": "6bbcb27f-d2ad-4728-973f-72ef67f068df",
   "metadata": {},
   "outputs": [],
   "source": [
    "with open('myfile.txt','r') as new_myfile:\n",
    "    contents=new_myfile.read()"
   ]
  },
  {
   "cell_type": "code",
   "execution_count": 106,
   "id": "68894cf4-79b6-4ddd-bf1c-3769ae495367",
   "metadata": {},
   "outputs": [
    {
     "data": {
      "text/plain": [
       "'hi \\nthis is updated version\\n'"
      ]
     },
     "execution_count": 106,
     "metadata": {},
     "output_type": "execute_result"
    }
   ],
   "source": [
    "contents"
   ]
  },
  {
   "cell_type": "code",
   "execution_count": 108,
   "id": "a9782202-c9c6-41c1-94e0-939044be43a6",
   "metadata": {},
   "outputs": [],
   "source": [
    "with open('myfile.txt','a') as new_myfile:\n",
    "    new_myfile.write('next line')"
   ]
  },
  {
   "cell_type": "code",
   "execution_count": 112,
   "id": "1b0fcb5f-bbc2-4ad9-a7b4-f50534db0efe",
   "metadata": {},
   "outputs": [
    {
     "name": "stdout",
     "output_type": "stream",
     "text": [
      "hi \n",
      "this is updated version\n",
      "next line\n"
     ]
    }
   ],
   "source": [
    "with open('myfile.txt','r') as new_myfile:\n",
    "    print(new_myfile.read())"
   ]
  },
  {
   "cell_type": "code",
   "execution_count": 124,
   "id": "26fe69f2-bdfe-40dd-bd82-44e81e90d1ce",
   "metadata": {},
   "outputs": [
    {
     "name": "stdout",
     "output_type": "stream",
     "text": [
      "no error\n",
      "always\n"
     ]
    }
   ],
   "source": [
    "try : \n",
    "    f=open('myfile.txt','w')\n",
    "    f.write('hi hello 123')\n",
    "    \n",
    "except :\n",
    "    print('error')\n",
    "else :\n",
    "    print('no error')\n",
    "finally :\n",
    "    print('always')"
   ]
  },
  {
   "cell_type": "code",
   "execution_count": 126,
   "id": "a2a817a3-3c16-4127-81dc-1f8fe5dbc9a9",
   "metadata": {},
   "outputs": [],
   "source": [
    "#homework"
   ]
  },
  {
   "cell_type": "code",
   "execution_count": 138,
   "id": "88a35e0d-f092-4124-96b3-4586881a4a95",
   "metadata": {},
   "outputs": [
    {
     "name": "stdout",
     "output_type": "stream",
     "text": [
      "There is an error\n",
      "I run always\n"
     ]
    }
   ],
   "source": [
    "#Handle the exception thrown by the code below by using try and except blocks.\n",
    "try:\n",
    "    for i in ['a','b','c']:\n",
    "        print(i**2)\n",
    "except TypeError:\n",
    "    print('There is an error')\n",
    "finally:\n",
    "    print('I run always')"
   ]
  },
  {
   "cell_type": "code",
   "execution_count": 142,
   "id": "09893052-8d8e-462f-87f1-832ffcab7024",
   "metadata": {},
   "outputs": [
    {
     "name": "stdout",
     "output_type": "stream",
     "text": [
      "Not valid\n"
     ]
    }
   ],
   "source": [
    "#Handle the exception thrown by the code below by using try and except blocks. Then use a finally block to print 'All Done.'\n",
    "try:\n",
    "    x = 5\n",
    "    y = 0\n",
    "    \n",
    "    z = x/y\n",
    "except ZeroDivisionError:\n",
    "    print('Not valid')\n",
    "    "
   ]
  },
  {
   "cell_type": "code",
   "execution_count": 150,
   "id": "8c615ec0-5974-4551-84db-5c560592a099",
   "metadata": {},
   "outputs": [
    {
     "name": "stdin",
     "output_type": "stream",
     "text": [
      "enter a integer: ff\n"
     ]
    },
    {
     "name": "stdout",
     "output_type": "stream",
     "text": [
      "Not a number\n",
      "attempt taken\n"
     ]
    },
    {
     "name": "stdin",
     "output_type": "stream",
     "text": [
      "enter a integer: 32\n"
     ]
    },
    {
     "name": "stdout",
     "output_type": "stream",
     "text": [
      "1024\n",
      "thanks for entering\n",
      "attempt taken\n"
     ]
    }
   ],
   "source": [
    "#Write a function that asks for an integer and prints the square of it.\n",
    "#Use a while loop with a try, except, else block to account for incorrect inputs.\n",
    "def func():\n",
    "            i=int(input('enter a integer:'))\n",
    "            print(i**2)\n",
    "while True:\n",
    "    try:\n",
    "        func()\n",
    "    except:\n",
    "        print('Not a number')\n",
    "    else:\n",
    "        print(\"thanks for entering\")\n",
    "        break\n",
    "    finally:\n",
    "        print('attempt taken')"
   ]
  },
  {
   "cell_type": "code",
   "execution_count": null,
   "id": "aab03794-3f7a-4d44-a930-24afa3d0c62a",
   "metadata": {},
   "outputs": [],
   "source": []
  }
 ],
 "metadata": {
  "kernelspec": {
   "display_name": "Python 3 (ipykernel)",
   "language": "python",
   "name": "python3"
  },
  "language_info": {
   "codemirror_mode": {
    "name": "ipython",
    "version": 3
   },
   "file_extension": ".py",
   "mimetype": "text/x-python",
   "name": "python",
   "nbconvert_exporter": "python",
   "pygments_lexer": "ipython3",
   "version": "3.12.7"
  }
 },
 "nbformat": 4,
 "nbformat_minor": 5
}

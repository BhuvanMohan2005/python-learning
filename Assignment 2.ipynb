{
 "cells": [
  {
   "cell_type": "code",
   "execution_count": 9,
   "id": "d6a416d4-84e6-4b52-b97d-cc9a16380dd0",
   "metadata": {},
   "outputs": [
    {
     "ename": "IndentationError",
     "evalue": "expected an indented block after 'if' statement on line 7 (473154310.py, line 8)",
     "output_type": "error",
     "traceback": [
      "\u001b[0;36m  Cell \u001b[0;32mIn[9], line 8\u001b[0;36m\u001b[0m\n\u001b[0;31m    print (letter)\u001b[0m\n\u001b[0m    ^\u001b[0m\n\u001b[0;31mIndentationError\u001b[0m\u001b[0;31m:\u001b[0m expected an indented block after 'if' statement on line 7\n"
     ]
    }
   ],
   "source": [
    "st = 'Print only the words that start with s in this sentence'\n",
    "#Code here\n",
    "count=0\n",
    "for letter in st :\n",
    "    if (letter=='s'):\n",
    "        for count in st:\n",
    "            if(count+1 !=' '):\n",
    "            print (letter)\n",
    "    count+=1\n",
    "print ('End')"
   ]
  },
  {
   "cell_type": "code",
   "execution_count": 34,
   "id": "b47ed6c8-ef20-49e1-9d22-c6a61dc31327",
   "metadata": {},
   "outputs": [
    {
     "name": "stdout",
     "output_type": "stream",
     "text": [
      "0\n",
      "2\n",
      "4\n",
      "6\n",
      "8\n"
     ]
    }
   ],
   "source": [
    "for num in range (0,10):\n",
    "    if (num%2==0):\n",
    "        \n",
    "        print (num)"
   ]
  },
  {
   "cell_type": "code",
   "execution_count": 42,
   "id": "20443d10-f555-4538-88d1-dedfaff7c6f0",
   "metadata": {},
   "outputs": [
    {
     "data": {
      "text/plain": [
       "[0, 3, 6, 9, 12, 15, 18, 21, 24, 27, 30, 33, 36, 39, 42, 45, 48]"
      ]
     },
     "execution_count": 42,
     "metadata": {},
     "output_type": "execute_result"
    }
   ],
   "source": [
    "mylist =[x for x in range(0,50) if(x%3==0)]\n",
    "mylist"
   ]
  },
  {
   "cell_type": "code",
   "execution_count": 70,
   "id": "f7b688bc-9c3e-4c90-a80d-8a2acc7a44f8",
   "metadata": {},
   "outputs": [
    {
     "name": "stdout",
     "output_type": "stream",
     "text": [
      "10 is even\n",
      "4 is even\n",
      "2 is even\n",
      "4 is even\n",
      "8 is even\n",
      "4 is even\n"
     ]
    }
   ],
   "source": [
    "st = 'Print every word in this sentence that has an even number of letters'\n",
    "count=0\n",
    "for x in st :\n",
    "    if (x!=' '):\n",
    "        count+=1\n",
    "    else:\n",
    "        if(count%2==0):\n",
    "            print('{} is even'.format(count))\n",
    "            count=0"
   ]
  },
  {
   "cell_type": "code",
   "execution_count": 72,
   "id": "8b8c5ed1-0e4a-4fe2-9424-06daf3709505",
   "metadata": {},
   "outputs": [
    {
     "data": {
      "text/plain": [
       "['Print',\n",
       " 'every',\n",
       " 'word',\n",
       " 'in',\n",
       " 'this',\n",
       " 'sentence',\n",
       " 'that',\n",
       " 'has',\n",
       " 'an',\n",
       " 'even',\n",
       " 'number',\n",
       " 'of',\n",
       " 'letters']"
      ]
     },
     "execution_count": 72,
     "metadata": {},
     "output_type": "execute_result"
    }
   ],
   "source": [
    "st.split()"
   ]
  },
  {
   "cell_type": "code",
   "execution_count": 88,
   "id": "b6b97745-3da1-4e48-93f5-ec9eee78c2da",
   "metadata": {},
   "outputs": [
    {
     "name": "stdout",
     "output_type": "stream",
     "text": [
      "svery\n",
      "sord\n",
      "shis\n",
      "sentence\n"
     ]
    }
   ],
   "source": [
    "st = 'Print svery sord in shis sentence that has an even number of letters'\n",
    "count=0\n",
    "for word in st.split():\n",
    "    if word[0].lower()=='s':\n",
    "        print(word)\n"
   ]
  },
  {
   "cell_type": "code",
   "execution_count": 107,
   "id": "1333409d-7bce-4c53-8b49-483e994b47b7",
   "metadata": {},
   "outputs": [
    {
     "name": "stdout",
     "output_type": "stream",
     "text": [
      "FizzBuzz\n",
      "1\n",
      "2\n",
      "Fizz\n",
      "4\n",
      "Buzz\n",
      "Fizz\n",
      "7\n",
      "8\n",
      "Fizz\n",
      "Buzz\n",
      "11\n",
      "Fizz\n",
      "13\n",
      "14\n",
      "FizzBuzz\n",
      "16\n",
      "17\n",
      "Fizz\n",
      "19\n",
      "Buzz\n",
      "Fizz\n",
      "22\n",
      "23\n",
      "Fizz\n",
      "Buzz\n",
      "26\n",
      "Fizz\n",
      "28\n",
      "29\n"
     ]
    }
   ],
   "source": [
    "for num in range(0,30):\n",
    "    \n",
    "    if (num%3==0 and num%5==0):\n",
    "        print('FizzBuzz')\n",
    "    elif (num%3==0):\n",
    "        print('Fizz')\n",
    "    elif(num%5==0):\n",
    "        print('Buzz')\n",
    "    else:\n",
    "        print(num)"
   ]
  },
  {
   "cell_type": "code",
   "execution_count": 133,
   "id": "eb26fc66-616a-466e-868c-018d28e8501a",
   "metadata": {},
   "outputs": [],
   "source": [
    "mylist =[1,2,3]\n",
    "mylist.append(5)"
   ]
  },
  {
   "cell_type": "code",
   "execution_count": 111,
   "id": "23dc5122-c469-4b66-a2fd-2053c02ef9ea",
   "metadata": {},
   "outputs": [
    {
     "data": {
      "text/plain": [
       "[1, 2, 3, 5]"
      ]
     },
     "execution_count": 111,
     "metadata": {},
     "output_type": "execute_result"
    }
   ],
   "source": [
    "mylist"
   ]
  },
  {
   "cell_type": "code",
   "execution_count": 113,
   "id": "d90c1c2c-3c2a-459b-b9d1-37f9c536273e",
   "metadata": {},
   "outputs": [],
   "source": [
    "mylist.remove(3)"
   ]
  },
  {
   "cell_type": "code",
   "execution_count": 117,
   "id": "98b4cbf0-1e71-4dc9-a5c9-f45dd003d0e8",
   "metadata": {},
   "outputs": [],
   "source": [
    "mylist.clear()"
   ]
  },
  {
   "cell_type": "code",
   "execution_count": 135,
   "id": "b7085e73-1d56-4b6c-8ebf-43493dedaf07",
   "metadata": {},
   "outputs": [
    {
     "data": {
      "text/plain": [
       "1"
      ]
     },
     "execution_count": 135,
     "metadata": {},
     "output_type": "execute_result"
    }
   ],
   "source": [
    "mylist.index(2)"
   ]
  },
  {
   "cell_type": "code",
   "execution_count": 137,
   "id": "5d96612c-1b60-41a4-8b85-6c694cb104bc",
   "metadata": {},
   "outputs": [],
   "source": [
    "mylist.insert(4,40)"
   ]
  },
  {
   "cell_type": "code",
   "execution_count": 153,
   "id": "36b4055b-d3b2-4e5b-bd73-e9e6f6b6e460",
   "metadata": {},
   "outputs": [
    {
     "name": "stdout",
     "output_type": "stream",
     "text": [
      "Help on built-in function extend:\n",
      "\n",
      "extend(iterable, /) method of builtins.list instance\n",
      "    Extend list by appending elements from the iterable.\n",
      "\n"
     ]
    }
   ],
   "source": [
    "help(mylist.extend)"
   ]
  },
  {
   "cell_type": "code",
   "execution_count": null,
   "id": "9dab5ff4-21fc-4566-b7a0-d649b1fd8304",
   "metadata": {},
   "outputs": [],
   "source": []
  }
 ],
 "metadata": {
  "kernelspec": {
   "display_name": "Python 3 (ipykernel)",
   "language": "python",
   "name": "python3"
  },
  "language_info": {
   "codemirror_mode": {
    "name": "ipython",
    "version": 3
   },
   "file_extension": ".py",
   "mimetype": "text/x-python",
   "name": "python",
   "nbconvert_exporter": "python",
   "pygments_lexer": "ipython3",
   "version": "3.12.7"
  }
 },
 "nbformat": 4,
 "nbformat_minor": 5
}

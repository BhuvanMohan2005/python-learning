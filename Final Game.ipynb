{
 "cells": [
  {
   "cell_type": "code",
   "execution_count": 7,
   "id": "34524db7-1710-426f-b767-cdd39eede3fa",
   "metadata": {},
   "outputs": [],
   "source": [
    "def view_board(board):\n",
    "    from IPython.display import clear_output\n",
    "    clear_output()\n",
    "    print(\"{}|{}|{}\".format(board[1],board[2],board[3]))\n",
    "    print(\"-----\")\n",
    "    print(\"{}|{}|{}\".format(board[4],board[5],board[6]))\n",
    "    print(\"-----\")\n",
    "    print(\"{}|{}|{}\".format(board[7],board[8],board[9]))"
   ]
  },
  {
   "cell_type": "code",
   "execution_count": 8,
   "id": "51ad1cdc-9ab5-4014-98f9-c410887f45e4",
   "metadata": {},
   "outputs": [],
   "source": [
    "def player1_sel():\n",
    "    p1_choice=''\n",
    "    p2_choice=''\n",
    "    print('Player1:')\n",
    "    while p1_choice not in ['X','O']:\n",
    "        p1_choice=input(\"What would you like to be ('X' or 'O')?\")\n",
    "        if p1_choice not in ['X','O']:\n",
    "            print(\"Sorry I dont understand Pls choose 'X' or 'O'!\")\n",
    "    return p1_choice"
   ]
  },
  {
   "cell_type": "code",
   "execution_count": 9,
   "id": "a77f7e0d-41b6-4d25-b15e-e676f93a72cf",
   "metadata": {},
   "outputs": [],
   "source": [
    "def player2_sel(p1):\n",
    "    if p1=='X':\n",
    "        p2='O'\n",
    "    else:\n",
    "        p2='X'\n",
    "    return p2\n"
   ]
  },
  {
   "cell_type": "code",
   "execution_count": 10,
   "id": "3c85e088-27e2-4a61-bad0-daf778ad0999",
   "metadata": {},
   "outputs": [],
   "source": [
    "def position_index(board):\n",
    "    pos=0\n",
    "    while pos not in range(1,10) or not space_check(board,pos):\n",
    "        pos=int(input('Choose a position(1-9) '))\n",
    "    return pos"
   ]
  },
  {
   "cell_type": "code",
   "execution_count": 11,
   "id": "26c5fe96-542e-4a2a-9613-380b75e08770",
   "metadata": {},
   "outputs": [],
   "source": [
    "def place_marker(board,marker,pos):\n",
    "    board[pos]=marker"
   ]
  },
  {
   "cell_type": "code",
   "execution_count": 12,
   "id": "789591d8-d082-4b50-9c14-01a0e84fc954",
   "metadata": {},
   "outputs": [],
   "source": [
    "def random_selector():\n",
    "    import random\n",
    "    x=random.randint(1,2)\n",
    "    print('Player {} goes first'.format(x))\n",
    "    if x==1:\n",
    "        return 'Player 1'\n",
    "    else: \n",
    "        return 'Player 2'"
   ]
  },
  {
   "cell_type": "code",
   "execution_count": 13,
   "id": "0e3c60a2-8a62-4804-812b-bdc7025fc589",
   "metadata": {},
   "outputs": [],
   "source": [
    "def win_check(board,mark):\n",
    "    return ((board[1]==board[2]==board[3]==mark) or (board[4]==board[5]==board[6]==mark) or\n",
    "    (board[7]==board[8]==board[9]==mark) or (board[1]==board[4]==board[7]==mark) or\n",
    "    (board[2]==board[5]==board[8]==mark) or (board[3]==board[6]==board[9]==mark) or\n",
    "    (board[1]==board[5]==board[9]==mark) or (board[7]==board[5]==board[3]==mark)) "
   ]
  },
  {
   "cell_type": "code",
   "execution_count": 14,
   "id": "d6ae8b59-783f-4b3a-8382-c0d7a0f71709",
   "metadata": {},
   "outputs": [],
   "source": [
    "def space_check(board,pos):\n",
    "    return board[pos]==' '"
   ]
  },
  {
   "cell_type": "code",
   "execution_count": 15,
   "id": "06f2cb86-0c07-4552-9a04-2cf430f8d06a",
   "metadata": {},
   "outputs": [],
   "source": [
    "def full_board_check(board):\n",
    "    for i in range(1,10):\n",
    "        if board[i]==' ':\n",
    "            return False \n",
    "    else: return True"
   ]
  },
  {
   "cell_type": "code",
   "execution_count": 16,
   "id": "396fa4b6-4880-4928-b307-3fb1ec987af5",
   "metadata": {},
   "outputs": [],
   "source": [
    "def replay():\n",
    "    r=' '\n",
    "    r=input(\"Do you want to continue playing ?('Y' or 'N')\")\n",
    "    if r in['Y','y']: \n",
    "        return True\n",
    "    else: \n",
    "        return False"
   ]
  },
  {
   "cell_type": "code",
   "execution_count": 17,
   "id": "8900ce94-9120-4c16-b64c-ee326d533c34",
   "metadata": {},
   "outputs": [
    {
     "name": "stdout",
     "output_type": "stream",
     "text": [
      "X|O|X\n",
      "-----\n",
      "O|X|O\n",
      "-----\n",
      "X| | \n",
      "Player 1 won the game !\n",
      "Thanks for playing!\n"
     ]
    }
   ],
   "source": [
    "print('Welcome to Tic-Tac-Toe')\n",
    "#while loop to keep running the game \n",
    "while True:\n",
    "\n",
    "    #play the game \n",
    "    \n",
    "    # set everything(board, whos first, markers)\n",
    "    board=['#',' ',' ',' ',' ',' ',' ',' ',' ',' ']\n",
    "    p1=player1_sel()\n",
    "    p2=player2_sel(p1)\n",
    "    turn =random_selector()\n",
    "\n",
    "    play_game=input('Do you want to play?(Y or N)')\n",
    "    if play_game=='Y'or play_game=='y':\n",
    "        game_on=True\n",
    "    else:\n",
    "        game_on=False\n",
    "\n",
    "    while game_on:\n",
    "        if turn =='Player 1':\n",
    "            #display the board\n",
    "            view_board(board)\n",
    "            # ask for the position to put the marker\n",
    "            pos=position_index(board)\n",
    "            # put the marker on the position\n",
    "            place_marker(board,p1,pos)\n",
    "        \n",
    "            #check if he win\n",
    "            if win_check(board,p1):\n",
    "                view_board(board)\n",
    "                print('Player 1 won the game !')\n",
    "                game_on=False\n",
    "            #or check if it is a tie \n",
    "            else:\n",
    "                if full_board_check(board):\n",
    "                    print('TIE Game')\n",
    "                    game_on=False\n",
    "                else:turn='Player 2'\n",
    "\n",
    "        #player 2 turn \n",
    "        else:\n",
    "            #display the board\n",
    "            view_board(board)\n",
    "            # ask for the position to put the marker\n",
    "            pos=position_index(board)\n",
    "            # put the marker on the position\n",
    "            place_marker(board,p2,pos)\n",
    "        \n",
    "            #check if he win\n",
    "            if win_check(board,p1):\n",
    "                view_board(board)\n",
    "                print('Player 2 won the game !')\n",
    "                game_on=False\n",
    "            #or check if it is a tie \n",
    "            else:\n",
    "                if full_board_check(board):\n",
    "                    print('TIE Game')\n",
    "                    game_on=False\n",
    "                else:turn='Player 1'\n",
    "\n",
    "            #No tie and win gives the other player turn\n",
    "\n",
    "\n",
    "        \n",
    "    if not replay():\n",
    "        print('Thanks for playing!')\n",
    "        break"
   ]
  },
  {
   "cell_type": "code",
   "execution_count": null,
   "id": "2dd1df6f",
   "metadata": {},
   "outputs": [],
   "source": []
  }
 ],
 "metadata": {
  "kernelspec": {
   "display_name": ".venv",
   "language": "python",
   "name": "python3"
  },
  "language_info": {
   "codemirror_mode": {
    "name": "ipython",
    "version": 3
   },
   "file_extension": ".py",
   "mimetype": "text/x-python",
   "name": "python",
   "nbconvert_exporter": "python",
   "pygments_lexer": "ipython3",
   "version": "3.13.1"
  }
 },
 "nbformat": 4,
 "nbformat_minor": 5
}

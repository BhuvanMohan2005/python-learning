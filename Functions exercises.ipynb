{
 "cells": [
  {
   "cell_type": "code",
   "execution_count": 79,
   "id": "78c108f2-6b90-4bc1-885f-8657801e90ac",
   "metadata": {},
   "outputs": [],
   "source": [
    "#LESSER OF TWO EVENS: Write a function that returns the lesser of two given numbers if both numbers are even, but returns the greater if one or both numbers are odd\n",
    "def lesser_of_two_evens(a,b):\n",
    "    if(a%2==0 and b%2==0):\n",
    "        if(a>b):\n",
    "            return b\n",
    "        else:return a\n",
    "    else:\n",
    "            if(a>b):\n",
    "                return a\n",
    "            else:return b"
   ]
  },
  {
   "cell_type": "code",
   "execution_count": 81,
   "id": "cc2cab01-7a58-406a-ae26-c94e36bd0497",
   "metadata": {},
   "outputs": [
    {
     "data": {
      "text/plain": [
       "4"
      ]
     },
     "execution_count": 81,
     "metadata": {},
     "output_type": "execute_result"
    }
   ],
   "source": [
    "lesser_of_two_evens(4,6)"
   ]
  },
  {
   "cell_type": "code",
   "execution_count": 83,
   "id": "d11cb9b0-f661-42c0-a65f-c6a24ef76049",
   "metadata": {},
   "outputs": [
    {
     "data": {
      "text/plain": [
       "5"
      ]
     },
     "execution_count": 83,
     "metadata": {},
     "output_type": "execute_result"
    }
   ],
   "source": [
    "lesser_of_two_evens(2,5)"
   ]
  },
  {
   "cell_type": "code",
   "execution_count": 97,
   "id": "dec130b7-8e8b-4b5f-b89a-c5f6dfff1b60",
   "metadata": {},
   "outputs": [
    {
     "data": {
      "text/plain": [
       "False"
      ]
     },
     "execution_count": 97,
     "metadata": {},
     "output_type": "execute_result"
    }
   ],
   "source": [
    "#ANIMAL CRACKERS: Write a function takes a two-word string and returns True if both words begin with same letter\n",
    "#animal_crackers('Levelheaded Llama') --> True\n",
    "#animal_crackers('Crazy Kangaroo') --> False\n",
    "def animal_crackers(text):\n",
    "    result=text.split()\n",
    "    a=[]\n",
    "    for ch in result:\n",
    "        a.append(ch[0])\n",
    "    if(a[0]==a[1]):\n",
    "        return True\n",
    "    else :\n",
    "        return False\n",
    "animal_crackers('hi ello')"
   ]
  },
  {
   "cell_type": "code",
   "execution_count": 101,
   "id": "fd02bf61-9bfc-4a59-8bf1-6a5a9cc3e8c5",
   "metadata": {},
   "outputs": [
    {
     "data": {
      "text/plain": [
       "True"
      ]
     },
     "execution_count": 101,
     "metadata": {},
     "output_type": "execute_result"
    }
   ],
   "source": [
    "animal_crackers('my mame')"
   ]
  },
  {
   "cell_type": "code",
   "execution_count": 103,
   "id": "2fcbe0cc-0221-4ee3-bdf8-5bb957c53e67",
   "metadata": {},
   "outputs": [
    {
     "data": {
      "text/plain": [
       "True"
      ]
     },
     "execution_count": 103,
     "metadata": {},
     "output_type": "execute_result"
    }
   ],
   "source": [
    "#MAKES TWENTY: Given two integers, return True if the sum of the integers is 20 or if one of the integers is 20. If not, return False\n",
    "#makes_twenty(20,10) --> True\n",
    "#makes_twenty(12,8) --> True\n",
    "#makes_twenty(2,3) --> False\n",
    "def makes_twenty(n1,n2):\n",
    "    if(n1+n2==20 or n1==20 or n2==20):\n",
    "        return True\n",
    "    else :\n",
    "        return False\n",
    "makes_twenty(2,18)"
   ]
  },
  {
   "cell_type": "code",
   "execution_count": 105,
   "id": "5fad5e42-dad8-4faf-bd2f-76f52690668c",
   "metadata": {},
   "outputs": [
    {
     "data": {
      "text/plain": [
       "True"
      ]
     },
     "execution_count": 105,
     "metadata": {},
     "output_type": "execute_result"
    }
   ],
   "source": [
    "makes_twenty(20,20)"
   ]
  },
  {
   "cell_type": "code",
   "execution_count": 107,
   "id": "04e3b699-1bd1-47a5-aa3e-b0fbc52598bc",
   "metadata": {},
   "outputs": [
    {
     "data": {
      "text/plain": [
       "False"
      ]
     },
     "execution_count": 107,
     "metadata": {},
     "output_type": "execute_result"
    }
   ],
   "source": [
    "makes_twenty(2,3)"
   ]
  },
  {
   "cell_type": "code",
   "execution_count": 125,
   "id": "d2d7bb05-4af2-4b44-8cb7-4a2e43ee5e4e",
   "metadata": {},
   "outputs": [
    {
     "data": {
      "text/plain": [
       "'MacDonald'"
      ]
     },
     "execution_count": 125,
     "metadata": {},
     "output_type": "execute_result"
    }
   ],
   "source": [
    "#OLD MACDONALD: Write a function that capitalizes the first and fourth letters of a name\n",
    "#old_macdonald('macdonald') --> MacDonald\n",
    "#Note: 'macdonald'.capitalize() returns 'Macdonald'\n",
    "def old_macdonald(name):\n",
    "    a=[]\n",
    "    return name[0].upper()+name[1:3]+name[3].upper()+name[4:]\n",
    "old_macdonald('macdonald')"
   ]
  },
  {
   "cell_type": "code",
   "execution_count": 127,
   "id": "55734d92-16bd-4a20-82aa-b69c7842a0a4",
   "metadata": {},
   "outputs": [
    {
     "data": {
      "text/plain": [
       "' my hero'"
      ]
     },
     "execution_count": 127,
     "metadata": {},
     "output_type": "execute_result"
    }
   ],
   "source": [
    "name='bhuvan is my hero'\n",
    "name[9:]"
   ]
  },
  {
   "cell_type": "code",
   "execution_count": 143,
   "id": "d236849e-9b79-48f8-b7d8-4eacead6bc9b",
   "metadata": {},
   "outputs": [
    {
     "data": {
      "text/plain": [
       "'boy good a is bhuvan'"
      ]
     },
     "execution_count": 143,
     "metadata": {},
     "output_type": "execute_result"
    }
   ],
   "source": [
    "\"\"\"\n",
    "MASTER YODA: Given a sentence, return a sentence with the words reversed\n",
    "master_yoda('I am home') --> 'home am I'\n",
    "master_yoda('We are ready') --> 'ready are We'\n",
    "Note: The .join() method may be useful here. The .join() method allows you to join together strings in a list with some connector string. For example, some uses of the .join() method:\n",
    "\n",
    ">>> \"--\".join(['a','b','c'])\n",
    ">>> 'a--b--c'\n",
    "This means if you had a list of words you wanted to turn back into a sentence, you could just join them with a single space string:\n",
    "\n",
    ">>> \" \".join(['Hello','world'])\n",
    ">>> \"Hello world\"\n",
    "\"\"\"\n",
    "def master_yoda(text):\n",
    "    result=text.split()\n",
    "    rev=result[::-1]\n",
    "    return ' '.join(rev)\n",
    "master_yoda('bhuvan is a good boy')"
   ]
  },
  {
   "cell_type": "code",
   "execution_count": 137,
   "id": "ece7954b-2044-4c08-96ef-d3dff921f525",
   "metadata": {},
   "outputs": [
    {
     "data": {
      "text/plain": [
       "\"tsixe tn'si xe ym\""
      ]
     },
     "execution_count": 137,
     "metadata": {},
     "output_type": "execute_result"
    }
   ],
   "source": [
    "ex=\"my ex is'nt exist\"\n",
    "ex[::-1]"
   ]
  },
  {
   "cell_type": "code",
   "execution_count": 165,
   "id": "b267790c-e2a6-4f28-8884-1e2d1d19eb19",
   "metadata": {},
   "outputs": [
    {
     "data": {
      "text/plain": [
       "False"
      ]
     },
     "execution_count": 165,
     "metadata": {},
     "output_type": "execute_result"
    }
   ],
   "source": [
    "\"\"\"\n",
    "ALMOST THERE: Given an integer n, return True if n is within 10 of either 100 or 200\n",
    "almost_there(90) --> True\n",
    "almost_there(104) --> True\n",
    "almost_there(150) --> False\n",
    "almost_there(209) --> True\n",
    "NOTE: abs(num) returns the absolute value of a number\n",
    "\"\"\"\n",
    "def almost_there(n):\n",
    "    if abs(n-100)<=10 or abs(n-200)<=10:\n",
    "        return True\n",
    "    else:\n",
    "        return False\n",
    "almost_there(-159.797665589)\n",
    "\n"
   ]
  },
  {
   "cell_type": "code",
   "execution_count": 167,
   "id": "8722e5f7-3b93-4703-81e7-43d903d0b3fa",
   "metadata": {},
   "outputs": [
    {
     "data": {
      "text/plain": [
       "True"
      ]
     },
     "execution_count": 167,
     "metadata": {},
     "output_type": "execute_result"
    }
   ],
   "source": [
    "almost_there(210)"
   ]
  },
  {
   "cell_type": "code",
   "execution_count": 217,
   "id": "59f75315-4fbc-4605-8e57-f020f54909b8",
   "metadata": {},
   "outputs": [
    {
     "data": {
      "text/plain": [
       "False"
      ]
     },
     "execution_count": 217,
     "metadata": {},
     "output_type": "execute_result"
    }
   ],
   "source": [
    "\"\"\"\n",
    "FIND 33:\n",
    "Given a list of ints, return True if the array contains a 3 next to a 3 somewhere.\n",
    "\n",
    "has_33([1, 3, 3]) → True\n",
    "has_33([1, 3, 1, 3]) → False\n",
    "has_33([3, 1, 3]) → False\n",
    "\"\"\"\n",
    "\n",
    "\n",
    "def find_consecutive(ints):                     #checks same numbers consecutive\n",
    "    count=0\n",
    "    for  i in range(len(ints)-1):\n",
    "        if ints[i]==ints[i+1]:\n",
    "            count+=1\n",
    "            return count>0\n",
    "        else:\n",
    "            return False\n",
    "find_consecutive([7,0,7])\n",
    "\n"
   ]
  },
  {
   "cell_type": "code",
   "execution_count": 225,
   "id": "af8cc531-6998-4dfb-8b56-a0de3ef6df70",
   "metadata": {},
   "outputs": [
    {
     "data": {
      "text/plain": [
       "range(0, 6)"
      ]
     },
     "execution_count": 225,
     "metadata": {},
     "output_type": "execute_result"
    }
   ],
   "source": [
    "name='bhuvan'\n",
    "range(len(name))"
   ]
  },
  {
   "cell_type": "code",
   "execution_count": 243,
   "id": "8167dfa3-9a4d-4cf0-b26f-d06a0eaa9433",
   "metadata": {},
   "outputs": [
    {
     "data": {
      "text/plain": [
       "False"
      ]
     },
     "execution_count": 243,
     "metadata": {},
     "output_type": "execute_result"
    }
   ],
   "source": [
    "def find_33(ints):                              #checks the consecutive 3's\n",
    "    for i in range (len(ints)-1):\n",
    "        if ints[i]==3 and ints[i+1]==3:\n",
    "            return True\n",
    "        else:\n",
    "            return False\n",
    "find_33([3,0,3])"
   ]
  },
  {
   "cell_type": "code",
   "execution_count": 269,
   "id": "2e8d0949-5273-486c-b197-954d82826709",
   "metadata": {},
   "outputs": [
    {
     "data": {
      "text/plain": [
       "'mmmiiissssssiiissssssiiippppppiii'"
      ]
     },
     "execution_count": 269,
     "metadata": {},
     "output_type": "execute_result"
    }
   ],
   "source": [
    "\"\"\"\n",
    "PAPER DOLL: Given a string, return a string where for every character in the original there are three characters\n",
    "paper_doll('Hello') --> 'HHHeeellllllooo'\n",
    "paper_doll('Mississippi') --> 'MMMiiissssssiiippppppiii'\n",
    "\"\"\"\n",
    "def threex_word(text):\n",
    "    a=''\n",
    "    for i in range(len(text)):\n",
    "        a+=text[i]\n",
    "        a+=text[i]\n",
    "        a+=text[i]\n",
    "    return a\n",
    "threex_word('mississippi')\n",
    "        "
   ]
  },
  {
   "cell_type": "code",
   "execution_count": 265,
   "id": "a480792c-9fa1-4492-bbac-d49ae3c02e7d",
   "metadata": {},
   "outputs": [
    {
     "data": {
      "text/plain": [
       "19"
      ]
     },
     "execution_count": 265,
     "metadata": {},
     "output_type": "execute_result"
    }
   ],
   "source": [
    "\"\"\"\n",
    "BLACKJACK: Given three integers between 1 and 11, if their sum is less than \n",
    "or equal to 21, return their sum. If their sum exceeds 21 and there's an eleven,\n",
    "reduce the total sum by 10. Finally, if the sum (even after adjustment) exceeds 21, return 'BUST'\n",
    "blackjack(5,6,7) --> 18\n",
    "blackjack(9,9,9) --> 'BUST'\n",
    "blackjack(9,9,11) --> 19\n",
    "\"\"\"\n",
    "def blackjack(a,b,c):\n",
    "    if sum((a,b,c))<=21:\n",
    "        return a+b+c\n",
    "    elif a==11 or b==11 or c==11:\n",
    "        if a+b+c>=21:\n",
    "            c=a+b+c-10\n",
    "            if c>21:\n",
    "                return 'BUST'\n",
    "            else:\n",
    "                return c\n",
    "    else:\n",
    "        return 'BUST'\n",
    "blackjack(9,9,11)"
   ]
  },
  {
   "cell_type": "code",
   "execution_count": 291,
   "id": "6771b132-c4e3-4334-a7e2-f31edc60382b",
   "metadata": {},
   "outputs": [
    {
     "data": {
      "text/plain": [
       "9"
      ]
     },
     "execution_count": 291,
     "metadata": {},
     "output_type": "execute_result"
    }
   ],
   "source": [
    "\"\"\"\n",
    "SUMMER OF '69: Return the sum of the numbers in the array, except ignore sections of numbers starting \n",
    "with a 6 and extending to the next 9 (every 6 will be followed by at least one 9). Return 0 for no numbers.\n",
    "summer_69([1, 3, 5]) --> 9\n",
    "summer_69([4, 5, 6, 7, 8, 9]) --> 9\n",
    "summer_69([2, 1, 6, 9, 11]) --> 14\n",
    "\"\"\"\n",
    "def summer_69(arr):\n",
    "    result=0\n",
    "    temp=True\n",
    "    for i in arr:\n",
    "        if temp==True and i!=6:\n",
    "            result+=i\n",
    "        elif i==6:\n",
    "            temp=False\n",
    "        elif i==9 and temp==False:\n",
    "            temp=True\n",
    "            continue\n",
    "    return result\n",
    "summer_69([1,3,5])\n",
    "        "
   ]
  },
  {
   "cell_type": "code",
   "execution_count": 293,
   "id": "8e088118-d2ce-485d-a7ae-52da7c59db25",
   "metadata": {},
   "outputs": [
    {
     "data": {
      "text/plain": [
       "9"
      ]
     },
     "execution_count": 293,
     "metadata": {},
     "output_type": "execute_result"
    }
   ],
   "source": [
    "summer_69([4,5,6,7,8,9])"
   ]
  },
  {
   "cell_type": "code",
   "execution_count": 295,
   "id": "b90852ed-66ac-4383-b3a6-0d922e994ac2",
   "metadata": {},
   "outputs": [
    {
     "data": {
      "text/plain": [
       "14"
      ]
     },
     "execution_count": 295,
     "metadata": {},
     "output_type": "execute_result"
    }
   ],
   "source": [
    "summer_69([2,1,6,9,11])"
   ]
  },
  {
   "cell_type": "code",
   "execution_count": 1,
   "id": "c1419985-eb90-4cd3-a9eb-22deec4060ce",
   "metadata": {},
   "outputs": [
    {
     "data": {
      "text/plain": [
       "True"
      ]
     },
     "execution_count": 1,
     "metadata": {},
     "output_type": "execute_result"
    }
   ],
   "source": [
    "\"\"\"\n",
    "SPY GAME: Write a function that takes in a list of integers and returns True if it contains 007 in order\n",
    " spy_game([1,2,4,0,0,7,5]) --> True\n",
    " spy_game([1,0,2,4,0,5,7]) --> True\n",
    " spy_game([1,7,2,0,4,5,0]) --> False\n",
    "\"\"\"\n",
    "def spy_games(nums):\n",
    "    for i in range(len(nums)-2):\n",
    "        if nums[i]==0 and nums[i+1]==0 and nums[i+2]==7:\n",
    "            return True\n",
    "    return False\n",
    "spy_games([6,2,0,79,0,0,7])"
   ]
  },
  {
   "cell_type": "code",
   "execution_count": 3,
   "id": "a6b6601d-ebbe-4db6-acd7-20dad514d614",
   "metadata": {},
   "outputs": [
    {
     "data": {
      "text/plain": [
       "range(0, 5)"
      ]
     },
     "execution_count": 3,
     "metadata": {},
     "output_type": "execute_result"
    }
   ],
   "source": [
    "num=[6,2,0,79,0,0,7]\n",
    "range(len(num)-2)"
   ]
  },
  {
   "cell_type": "code",
   "execution_count": 4,
   "id": "48fa7b29-e64e-4b27-b79f-3ae86c067bc7",
   "metadata": {},
   "outputs": [],
   "source": [
    "num=range(0,100)\n"
   ]
  },
  {
   "cell_type": "code",
   "execution_count": null,
   "id": "9dc5a6db-3e77-4127-a22d-b86900d25626",
   "metadata": {},
   "outputs": [],
   "source": []
  }
 ],
 "metadata": {
  "kernelspec": {
   "display_name": "Python 3 (ipykernel)",
   "language": "python",
   "name": "python3"
  },
  "language_info": {
   "codemirror_mode": {
    "name": "ipython",
    "version": 3
   },
   "file_extension": ".py",
   "mimetype": "text/x-python",
   "name": "python",
   "nbconvert_exporter": "python",
   "pygments_lexer": "ipython3",
   "version": "3.12.7"
  }
 },
 "nbformat": 4,
 "nbformat_minor": 5
}

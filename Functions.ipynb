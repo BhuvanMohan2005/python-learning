{
 "cells": [
  {
   "cell_type": "code",
   "execution_count": 41,
   "id": "8be6e300-beef-4109-a843-6c89220e1da7",
   "metadata": {},
   "outputs": [
    {
     "name": "stdout",
     "output_type": "stream",
     "text": [
      "my name is no name\n"
     ]
    },
    {
     "data": {
      "text/plain": [
       "'no name'"
      ]
     },
     "execution_count": 41,
     "metadata": {},
     "output_type": "execute_result"
    }
   ],
   "source": [
    "def hi_hello(name='no name'):\n",
    "    print('my name is {}'.format(name))\n",
    "    return name\n",
    "hi_hello()"
   ]
  },
  {
   "cell_type": "code",
   "execution_count": 51,
   "id": "9cbf9059-e154-499b-b115-712d2741e730",
   "metadata": {},
   "outputs": [
    {
     "name": "stdout",
     "output_type": "stream",
     "text": [
      "2040.6\n"
     ]
    }
   ],
   "source": [
    "def str_con(n1,n2):\n",
    "    print(n1+n2)\n",
    "str_con('20','40.6')"
   ]
  },
  {
   "cell_type": "code",
   "execution_count": 101,
   "id": "50c7640f-8a67-4e61-a068-087a94213dd8",
   "metadata": {},
   "outputs": [],
   "source": [
    "def even_check(mylist):\n",
    "    eve=[ ]\n",
    "    for num in mylist:\n",
    "        if num%2==0:\n",
    "            eve.append(num)\n",
    "        else:\n",
    "         pass\n",
    "    return eve"
   ]
  },
  {
   "cell_type": "code",
   "execution_count": 105,
   "id": "b56b5d3f-b515-48ca-9c61-34e8be01048a",
   "metadata": {},
   "outputs": [
    {
     "data": {
      "text/plain": [
       "[2, 6, 6, 8, 456]"
      ]
     },
     "execution_count": 105,
     "metadata": {},
     "output_type": "execute_result"
    }
   ],
   "source": [
    "even_check([1,2,1,6,6,8,456,767])"
   ]
  },
  {
   "cell_type": "code",
   "execution_count": 121,
   "id": "83fb3bf5-1c47-4363-9878-66b0630fe997",
   "metadata": {},
   "outputs": [
    {
     "data": {
      "text/plain": [
       "['v', 'n', '1', 'u', 'b', 'a', 'h']"
      ]
     },
     "execution_count": 121,
     "metadata": {},
     "output_type": "execute_result"
    }
   ],
   "source": [
    "#Shuffling \n",
    "mylist=['b','h','u','v','a','n','1']\n",
    "from random import shuffle \n",
    "shuffle(mylist)\n",
    "mylist"
   ]
  },
  {
   "cell_type": "code",
   "execution_count": 7,
   "id": "0747caab-e624-49f8-95d7-62df4dc8db07",
   "metadata": {},
   "outputs": [
    {
     "name": "stdin",
     "output_type": "stream",
     "text": [
      "Choose one from 0 to 6 5\n"
     ]
    },
    {
     "name": "stdout",
     "output_type": "stream",
     "text": [
      "bad luck \n",
      "['u', 'a', 'v', '1', 'n', 'h', 'b']\n"
     ]
    }
   ],
   "source": [
    "#  GAME\n",
    "\n",
    "\n",
    "def shuffle_list(mylist):\n",
    "    from random import shuffle\n",
    "    shuffle(mylist)\n",
    "    return mylist\n",
    "\n",
    "def inputs(): \n",
    "    guess=''\n",
    "    while guess not in ('0','1','2','3','4','5','6'):\n",
    "        guess=input(\"Choose one from 0 to 6\")\n",
    "    return int(guess)\n",
    "\n",
    "def check_list(mylist,guess):\n",
    "    if(mylist[guess]=='1'):\n",
    "        print('correct')\n",
    "    else:\n",
    "        print(\"bad luck \")\n",
    "        print(mylist)\n",
    "\n",
    "\n",
    "mylist=['b','h','u','v','a','n','1']\n",
    "random_list=shuffle_list(mylist)\n",
    "your_guess=inputs()\n",
    "check_list(random_list,your_guess)"
   ]
  },
  {
   "cell_type": "code",
   "execution_count": 11,
   "id": "6f55c3b0-7833-4869-a11d-555e963c89fb",
   "metadata": {},
   "outputs": [
    {
     "data": {
      "text/plain": [
       "150"
      ]
     },
     "execution_count": 11,
     "metadata": {},
     "output_type": "execute_result"
    }
   ],
   "source": [
    "def myfunc(a,b):\n",
    "    return sum((a,b))*10\n",
    "myfunc(5,10)"
   ]
  },
  {
   "cell_type": "code",
   "execution_count": 13,
   "id": "3fc762f4-589d-4e8a-bedc-2a525063ab9e",
   "metadata": {},
   "outputs": [
    {
     "name": "stdout",
     "output_type": "stream",
     "text": [
      "Help on built-in function sum in module builtins:\n",
      "\n",
      "sum(iterable, /, start=0)\n",
      "    Return the sum of a 'start' value (default: 0) plus an iterable of numbers\n",
      "\n",
      "    When the iterable is empty, return the start value.\n",
      "    This function is intended specifically for use with numeric values and may\n",
      "    reject non-numeric types.\n",
      "\n"
     ]
    }
   ],
   "source": [
    "help (sum)"
   ]
  },
  {
   "cell_type": "code",
   "execution_count": null,
   "id": "ba3ee30b-03f7-439e-a29f-fd83efad8018",
   "metadata": {},
   "outputs": [],
   "source": []
  }
 ],
 "metadata": {
  "kernelspec": {
   "display_name": "Python 3 (ipykernel)",
   "language": "python",
   "name": "python3"
  },
  "language_info": {
   "codemirror_mode": {
    "name": "ipython",
    "version": 3
   },
   "file_extension": ".py",
   "mimetype": "text/x-python",
   "name": "python",
   "nbconvert_exporter": "python",
   "pygments_lexer": "ipython3",
   "version": "3.12.7"
  }
 },
 "nbformat": 4,
 "nbformat_minor": 5
}

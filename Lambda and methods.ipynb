{
 "cells": [
  {
   "cell_type": "code",
   "execution_count": 17,
   "id": "6e96b52d-a861-41bd-98fc-6b9afd959a17",
   "metadata": {},
   "outputs": [],
   "source": [
    "def str_check(mystring):\n",
    "    if len(mystring)%2==0:\n",
    "        return 'Even'\n",
    "    else:\n",
    "        return 'Odd'"
   ]
  },
  {
   "cell_type": "code",
   "execution_count": 19,
   "id": "b26df532-c5e8-4383-aa41-2c81fb8311f8",
   "metadata": {},
   "outputs": [],
   "source": [
    "string=['bhu','one','he','ma']"
   ]
  },
  {
   "cell_type": "code",
   "execution_count": 21,
   "id": "15860fe9-4a12-4f2c-9fa3-ecf25129bdc8",
   "metadata": {},
   "outputs": [
    {
     "data": {
      "text/plain": [
       "<map at 0x137f12350>"
      ]
     },
     "execution_count": 21,
     "metadata": {},
     "output_type": "execute_result"
    }
   ],
   "source": [
    "map(str_check,string)"
   ]
  },
  {
   "cell_type": "code",
   "execution_count": 23,
   "id": "572bf278-94a4-47be-b02e-45d2e3943134",
   "metadata": {},
   "outputs": [
    {
     "data": {
      "text/plain": [
       "['Odd', 'Odd', 'Even', 'Even']"
      ]
     },
     "execution_count": 23,
     "metadata": {},
     "output_type": "execute_result"
    }
   ],
   "source": [
    "list(map(str_check,string))"
   ]
  },
  {
   "cell_type": "code",
   "execution_count": 27,
   "id": "857d9329-333c-448b-a052-1504b7bd014e",
   "metadata": {},
   "outputs": [
    {
     "data": {
      "text/plain": [
       "[False, False, True, True]"
      ]
     },
     "execution_count": 27,
     "metadata": {},
     "output_type": "execute_result"
    }
   ],
   "source": [
    "list(map(lambda num:len(num)%2==0,string))"
   ]
  },
  {
   "cell_type": "code",
   "execution_count": 29,
   "id": "bf2c7c21-f121-411a-9d1a-1245048706a2",
   "metadata": {},
   "outputs": [
    {
     "data": {
      "text/plain": [
       "[2, 4, 6]"
      ]
     },
     "execution_count": 29,
     "metadata": {},
     "output_type": "execute_result"
    }
   ],
   "source": [
    "list(filter(lambda num:num%2==0,[1,2,3,4,5,6]))"
   ]
  },
  {
   "cell_type": "code",
   "execution_count": 31,
   "id": "7fef9985-2546-4b55-9a4b-94e2875d8e10",
   "metadata": {},
   "outputs": [
    {
     "data": {
      "text/plain": [
       "33.49333333333333"
      ]
     },
     "execution_count": 31,
     "metadata": {},
     "output_type": "execute_result"
    }
   ],
   "source": [
    "#Write a function that computes the volume of a sphere given its radius.\n",
    "def rad_sph(r):\n",
    "    return (4/3)*3.14*(r**3)\n",
    "rad_sph(2)"
   ]
  },
  {
   "cell_type": "code",
   "execution_count": 39,
   "id": "fa762f54-b527-4cf8-86e1-39ffdb4b4dac",
   "metadata": {},
   "outputs": [
    {
     "data": {
      "text/plain": [
       "'it is present'"
      ]
     },
     "execution_count": 39,
     "metadata": {},
     "output_type": "execute_result"
    }
   ],
   "source": [
    "#Write a function that checks whether a number is in a given range (inclusive of high and low)\n",
    "def check_in_range(num,low,high):\n",
    "    if num in range(low,high):\n",
    "        return 'it is present'\n",
    "    else: return 'it is not'\n",
    "check_in_range(50,2,70)\n",
    "    "
   ]
  },
  {
   "cell_type": "code",
   "execution_count": 49,
   "id": "e87b13db-013e-4cbd-a597-a8dbe87a57f6",
   "metadata": {},
   "outputs": [
    {
     "data": {
      "text/plain": [
       "True"
      ]
     },
     "execution_count": 49,
     "metadata": {},
     "output_type": "execute_result"
    }
   ],
   "source": [
    "'BHUVAN'.isupper()"
   ]
  },
  {
   "cell_type": "code",
   "execution_count": 73,
   "id": "82da9393-cdf0-4295-b306-73ffdef85e7f",
   "metadata": {},
   "outputs": [],
   "source": [
    "\"\"\"\n",
    "Write a Python function that accepts a string and calculates the number of upper case letters and lower case letters.\n",
    "\n",
    "Sample String : 'Hello Mr. Rogers, how are you this fine Tuesday?'\n",
    "Expected Output : \n",
    "No. of Upper case characters : 4\n",
    "No. of Lower case Characters : 33\n",
    "HINT: Two string methods that might prove useful: .isupper() and .islower()\n",
    "\n",
    "If you feel ambitious, explore the Collections module to solve this problem!\n",
    "\"\"\"\n",
    "def up_low(s):\n",
    "    a=b=0\n",
    "    for ch in s:\n",
    "        if ch.isupper():\n",
    "            a+=1\n",
    "        else:b+=1\n",
    "    print(f'No of upper:{a}')\n",
    "    print(f'no of lower:{b}')\n",
    "\n"
   ]
  },
  {
   "cell_type": "code",
   "execution_count": 75,
   "id": "ce62bb51-0061-4faf-8d35-a4279dc1a98d",
   "metadata": {},
   "outputs": [
    {
     "name": "stdout",
     "output_type": "stream",
     "text": [
      "No of upper:2\n",
      "no of lower:6\n"
     ]
    }
   ],
   "source": [
    "up_low('Hi Hello')"
   ]
  },
  {
   "cell_type": "code",
   "execution_count": 100,
   "id": "68ebdc87-48b0-4132-8d49-7c73147fc3d6",
   "metadata": {},
   "outputs": [
    {
     "data": {
      "text/plain": [
       "[1, 2, 3, 4, 5, 6, 7, 66, 8]"
      ]
     },
     "execution_count": 100,
     "metadata": {},
     "output_type": "execute_result"
    }
   ],
   "source": [
    "\"\"\"Write a Python function that takes a list and returns a new list with unique elements of the first list.\n",
    "\n",
    "Sample List : [1,1,1,1,2,2,3,3,3,3,4,5]\n",
    "Unique List : [1, 2, 3, 4, 5] \"\"\"\n",
    "def unique_list(mylist):\n",
    "    result=[]\n",
    "    for num in mylist:\n",
    "        if(num not in result):\n",
    "            result.append(num)\n",
    "    return result\n",
    "unique_list([1,1,1,2,2,2,3,3,4,5,3,6,5,7,66,8,7])        "
   ]
  },
  {
   "cell_type": "code",
   "execution_count": 85,
   "id": "9460a2a5-5213-4c42-bf9f-2a96c5073d4a",
   "metadata": {},
   "outputs": [
    {
     "data": {
      "text/plain": [
       "[3, 1, 2, 11]"
      ]
     },
     "execution_count": 85,
     "metadata": {},
     "output_type": "execute_result"
    }
   ],
   "source": [
    "mylist=[11,1,1,1,2,2,2,3,3,3]\n",
    "list(set(mylist))"
   ]
  },
  {
   "cell_type": "code",
   "execution_count": 102,
   "id": "d34f81f6-47d7-4c02-b6c7-798c62c60234",
   "metadata": {},
   "outputs": [
    {
     "data": {
      "text/plain": [
       "['a',\n",
       " 'b',\n",
       " 'c',\n",
       " 'd',\n",
       " 'e',\n",
       " 'f',\n",
       " 'g',\n",
       " 'h',\n",
       " 'i',\n",
       " 'j',\n",
       " 'k',\n",
       " 'l',\n",
       " 'm',\n",
       " 'n',\n",
       " 'o',\n",
       " 'p',\n",
       " 'q',\n",
       " 'r',\n",
       " 's',\n",
       " 't',\n",
       " 'u',\n",
       " 'v',\n",
       " 'w',\n",
       " 'x',\n",
       " 'y',\n",
       " 'z']"
      ]
     },
     "execution_count": 102,
     "metadata": {},
     "output_type": "execute_result"
    }
   ],
   "source": [
    "\"\"\"\n",
    "Write a Python function to check whether a string is pangram or not. (Assume the string passed in does not have any punctuation)\n",
    "\n",
    "Note : Pangrams are words or sentences containing every letter of the alphabet at least once.\n",
    "For example : \"The quick brown fox jumps over the lazy dog\"\n",
    "Hint: You may want to use .replace() method to get rid of spaces.\n",
    "\n",
    "Hint: Look at the string module\n",
    "\n",
    "Hint: In case you want to use set comparisons\n",
    "\n",
    "\"\"\"\n",
    "list(map(chr,range(97,123)))"
   ]
  },
  {
   "cell_type": "code",
   "execution_count": 152,
   "id": "aaf69cd9-052a-4b11-80ff-dbd698d7ca49",
   "metadata": {},
   "outputs": [],
   "source": [
    "import string\n",
    "def is_pangram(str1):\n",
    "    alphabet=string.ascii_lowercase\n",
    "    alphaset=set(alphabet)\n",
    "    print(alphaset)\n",
    "    str1=str1.replace(' ','')\n",
    "    str1=str1.lower()\n",
    "    str1=set(str1) \n",
    "    return str1==alphaset"
   ]
  },
  {
   "cell_type": "code",
   "execution_count": 154,
   "id": "599ca315-8059-4660-bbbd-cdf7e82d68b5",
   "metadata": {},
   "outputs": [
    {
     "name": "stdout",
     "output_type": "stream",
     "text": [
      "{'r', 'b', 'g', 'm', 'p', 'j', 'z', 's', 'u', 'n', 'd', 'y', 'k', 't', 'e', 'f', 'l', 'x', 'c', 'w', 'i', 'o', 'v', 'h', 'a', 'q'}\n"
     ]
    },
    {
     "data": {
      "text/plain": [
       "True"
      ]
     },
     "execution_count": 154,
     "metadata": {},
     "output_type": "execute_result"
    }
   ],
   "source": [
    "is_pangram('The quick brown fox jumps over the lazy dog')"
   ]
  },
  {
   "cell_type": "code",
   "execution_count": null,
   "id": "6254d70c-d7dc-4e3b-9f5a-82d786cc7131",
   "metadata": {},
   "outputs": [],
   "source": []
  }
 ],
 "metadata": {
  "kernelspec": {
   "display_name": "Python 3 (ipykernel)",
   "language": "python",
   "name": "python3"
  },
  "language_info": {
   "codemirror_mode": {
    "name": "ipython",
    "version": 3
   },
   "file_extension": ".py",
   "mimetype": "text/x-python",
   "name": "python",
   "nbconvert_exporter": "python",
   "pygments_lexer": "ipython3",
   "version": "3.12.7"
  }
 },
 "nbformat": 4,
 "nbformat_minor": 5
}

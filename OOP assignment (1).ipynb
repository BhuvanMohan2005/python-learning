{
 "cells": [
  {
   "cell_type": "code",
   "execution_count": 202,
   "id": "7a2ca4b9-96f7-4b17-a4c6-49290f65e3ca",
   "metadata": {},
   "outputs": [],
   "source": [
    "class Line():\n",
    "    \n",
    "    def __init__(self,coor1,coor2):\n",
    "        self.coor1=coor1\n",
    "        self.coor2=coor2\n",
    "    def distance(self):\n",
    "        x=pow((self.coor2[0]-self.coor1[0]),2)\n",
    "        y=pow((self.coor2[1]-self.coor1[1]),2)\n",
    "        return (x+y)**0.5\n",
    "    def slope(self):\n",
    "        a=self.coor2[1]-self.coor1[1]\n",
    "        b=self.coor2[0]-self.coor1[0]\n",
    "        return (a/b)"
   ]
  },
  {
   "cell_type": "code",
   "execution_count": 204,
   "id": "d4521a2b-4d0c-4ba8-96e0-d9552ae787a2",
   "metadata": {},
   "outputs": [],
   "source": [
    "coordinate1 = (3,2)\n",
    "coordinate2 = (8,10)\n",
    "\n",
    "temp = Line(coordinate1,coordinate2)"
   ]
  },
  {
   "cell_type": "code",
   "execution_count": 206,
   "id": "a53029de-509f-4448-99e0-5cef083b5b6b",
   "metadata": {},
   "outputs": [
    {
     "data": {
      "text/plain": [
       "9.433981132056603"
      ]
     },
     "execution_count": 206,
     "metadata": {},
     "output_type": "execute_result"
    }
   ],
   "source": [
    "temp.distance()"
   ]
  },
  {
   "cell_type": "code",
   "execution_count": 208,
   "id": "c3f55968-a532-434a-ac05-eae57c770e7c",
   "metadata": {},
   "outputs": [
    {
     "data": {
      "text/plain": [
       "1.6"
      ]
     },
     "execution_count": 208,
     "metadata": {},
     "output_type": "execute_result"
    }
   ],
   "source": [
    "temp.slope()"
   ]
  },
  {
   "cell_type": "code",
   "execution_count": 210,
   "id": "bb7029be-a337-4842-9301-f6c2ad5f44ff",
   "metadata": {},
   "outputs": [],
   "source": [
    "#OOPchallenge "
   ]
  },
  {
   "cell_type": "code",
   "execution_count": 26,
   "id": "a118c5a9-8f0d-42b4-a0e3-007c0a370a59",
   "metadata": {},
   "outputs": [],
   "source": [
    "class Account():\n",
    "    def __init__(self,name,balance):\n",
    "        self.name=name\n",
    "        self.balance=balance\n",
    "    def deposit(self,money):\n",
    "        self.balance+=money\n",
    "        print('deposit accepted')\n",
    "        \n",
    "    def withdraw(self,money):\n",
    "        if self.balance>=money:\n",
    "            self.balance-=money\n",
    "            print('withdrawal accepted')\n",
    "        else: print('Insufficient ')\n",
    "    def __str__(self):\n",
    "       return (f\"Account Owner: {self.name} \\n Account Balance:${self.balance} \")"
   ]
  },
  {
   "cell_type": "code",
   "execution_count": 30,
   "id": "bfba4e47-a017-4393-a535-b8a8db9bae1d",
   "metadata": {},
   "outputs": [],
   "source": [
    "my_acc=Account('Bhuvan',400)"
   ]
  },
  {
   "cell_type": "code",
   "execution_count": 32,
   "id": "d3c1c22a-86ec-4cda-ab51-6c7a1cf9cb0e",
   "metadata": {},
   "outputs": [
    {
     "name": "stdout",
     "output_type": "stream",
     "text": [
      "deposit accepted\n"
     ]
    }
   ],
   "source": [
    "my_acc.deposit(500)"
   ]
  },
  {
   "cell_type": "code",
   "execution_count": 34,
   "id": "7db5609b-01de-423f-8af0-c91765904b3e",
   "metadata": {},
   "outputs": [
    {
     "name": "stdout",
     "output_type": "stream",
     "text": [
      "withdrawal accepted\n"
     ]
    }
   ],
   "source": [
    "my_acc.withdraw(200)"
   ]
  },
  {
   "cell_type": "code",
   "execution_count": 36,
   "id": "51571065-198b-4e79-9309-6c6c4d6b75c8",
   "metadata": {},
   "outputs": [
    {
     "data": {
      "text/plain": [
       "'Account Owner: Bhuvan \\n Account Balance:$700 '"
      ]
     },
     "execution_count": 36,
     "metadata": {},
     "output_type": "execute_result"
    }
   ],
   "source": [
    "str(my_acc)"
   ]
  },
  {
   "cell_type": "code",
   "execution_count": 12,
   "id": "1d96aa1d-40a6-4446-b836-116d90094b99",
   "metadata": {},
   "outputs": [
    {
     "data": {
      "text/plain": [
       "700"
      ]
     },
     "execution_count": 12,
     "metadata": {},
     "output_type": "execute_result"
    }
   ],
   "source": [
    "my_acc.balance"
   ]
  },
  {
   "cell_type": "code",
   "execution_count": 14,
   "id": "3de18715-f604-4f97-a101-d94fa8ab381e",
   "metadata": {},
   "outputs": [
    {
     "data": {
      "text/plain": [
       "'Bhuvan'"
      ]
     },
     "execution_count": 14,
     "metadata": {},
     "output_type": "execute_result"
    }
   ],
   "source": [
    "my_acc.name"
   ]
  },
  {
   "cell_type": "code",
   "execution_count": null,
   "id": "13df1eb3-5784-4d38-877a-e4a936cb25ed",
   "metadata": {},
   "outputs": [],
   "source": []
  }
 ],
 "metadata": {
  "kernelspec": {
   "display_name": "Python 3 (ipykernel)",
   "language": "python",
   "name": "python3"
  },
  "language_info": {
   "codemirror_mode": {
    "name": "ipython",
    "version": 3
   },
   "file_extension": ".py",
   "mimetype": "text/x-python",
   "name": "python",
   "nbconvert_exporter": "python",
   "pygments_lexer": "ipython3",
   "version": "3.12.7"
  }
 },
 "nbformat": 4,
 "nbformat_minor": 5
}

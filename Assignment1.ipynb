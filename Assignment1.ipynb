{
 "cells": [
  {
   "cell_type": "code",
   "execution_count": 29,
   "id": "bbd8fd9e-f28c-46e1-8085-ec2cc74428d6",
   "metadata": {},
   "outputs": [],
   "source": [
    "s='hello'"
   ]
  },
  {
   "cell_type": "code",
   "execution_count": 47,
   "id": "828baadf-28ed-4b63-b259-a7f481f81181",
   "metadata": {},
   "outputs": [
    {
     "data": {
      "text/plain": [
       "'olleh'"
      ]
     },
     "execution_count": 47,
     "metadata": {},
     "output_type": "execute_result"
    }
   ],
   "source": [
    "s[::-1]"
   ]
  },
  {
   "cell_type": "code",
   "execution_count": 49,
   "id": "97ee5a27-17c0-48dc-8d44-d297c72346da",
   "metadata": {},
   "outputs": [
    {
     "data": {
      "text/plain": [
       "float"
      ]
     },
     "execution_count": 49,
     "metadata": {},
     "output_type": "execute_result"
    }
   ],
   "source": [
    "p=4+1.3+5\n",
    "type(p)"
   ]
  },
  {
   "cell_type": "code",
   "execution_count": 51,
   "id": "d481d25c-bab8-4b0c-9397-228836f0c0af",
   "metadata": {},
   "outputs": [
    {
     "data": {
      "text/plain": [
       "10.3"
      ]
     },
     "execution_count": 51,
     "metadata": {},
     "output_type": "execute_result"
    }
   ],
   "source": [
    "p"
   ]
  },
  {
   "cell_type": "code",
   "execution_count": 53,
   "id": "6fcadbd0-475c-4a43-8ba2-774d616ade49",
   "metadata": {},
   "outputs": [],
   "source": [
    "g=[0,0,0]"
   ]
  },
  {
   "cell_type": "code",
   "execution_count": 55,
   "id": "0c4c088f-7de3-4100-8123-53bf9a7d60a6",
   "metadata": {},
   "outputs": [
    {
     "data": {
      "text/plain": [
       "[0, 0, 0]"
      ]
     },
     "execution_count": 55,
     "metadata": {},
     "output_type": "execute_result"
    }
   ],
   "source": [
    "g"
   ]
  },
  {
   "cell_type": "code",
   "execution_count": 61,
   "id": "6b36827e-d1c1-4e7f-afc6-9fbf0f0a6844",
   "metadata": {},
   "outputs": [],
   "source": [
    "g.append(8)"
   ]
  },
  {
   "cell_type": "code",
   "execution_count": 63,
   "id": "4b38d0e7-878b-45e0-aff3-80d2be35a2a5",
   "metadata": {},
   "outputs": [
    {
     "data": {
      "text/plain": [
       "[0, 0, 0, [8], 8]"
      ]
     },
     "execution_count": 63,
     "metadata": {},
     "output_type": "execute_result"
    }
   ],
   "source": [
    "g"
   ]
  },
  {
   "cell_type": "code",
   "execution_count": 65,
   "id": "557eb50d-3bc6-4d46-a9c9-c9edea5e3b38",
   "metadata": {},
   "outputs": [],
   "source": [
    "g.remove([8])"
   ]
  },
  {
   "cell_type": "code",
   "execution_count": 67,
   "id": "aa19b413-9317-4d0f-bc88-d8b863b7f5b4",
   "metadata": {},
   "outputs": [
    {
     "data": {
      "text/plain": [
       "[0, 0, 0, 8]"
      ]
     },
     "execution_count": 67,
     "metadata": {},
     "output_type": "execute_result"
    }
   ],
   "source": [
    "g"
   ]
  },
  {
   "cell_type": "code",
   "execution_count": 79,
   "id": "9e5c1fc3-45c4-4e9a-a217-ee33381401f1",
   "metadata": {},
   "outputs": [],
   "source": [
    "t=([0,0,0])"
   ]
  },
  {
   "cell_type": "code",
   "execution_count": 81,
   "id": "5e8d2684-6ad2-4eec-afaa-9027797db573",
   "metadata": {},
   "outputs": [
    {
     "name": "stdout",
     "output_type": "stream",
     "text": [
      "[0, 0, 0]\n"
     ]
    }
   ],
   "source": [
    "print(t)"
   ]
  },
  {
   "cell_type": "code",
   "execution_count": 87,
   "id": "9b27a8a4-2453-4d35-aeb5-0fa8ff1a9f4b",
   "metadata": {},
   "outputs": [],
   "source": [
    "list1=[0,3,45,6,7]\n",
    "list1.sort()"
   ]
  },
  {
   "cell_type": "code",
   "execution_count": 89,
   "id": "f997d2ed-5523-433e-86eb-306e9d0c5967",
   "metadata": {},
   "outputs": [
    {
     "data": {
      "text/plain": [
       "[0, 3, 6, 7, 45]"
      ]
     },
     "execution_count": 89,
     "metadata": {},
     "output_type": "execute_result"
    }
   ],
   "source": [
    "list1"
   ]
  },
  {
   "cell_type": "code",
   "execution_count": 97,
   "id": "1a780023-377a-4b41-b200-10acb27b15ed",
   "metadata": {},
   "outputs": [
    {
     "data": {
      "text/plain": [
       "[1, 2, [3, 4, 'goodbye']]"
      ]
     },
     "execution_count": 97,
     "metadata": {},
     "output_type": "execute_result"
    }
   ],
   "source": [
    "list3 = [1,2,[3,4,'hello']]\n",
    "list3[2][2]='goodbye'\n",
    "list3"
   ]
  },
  {
   "cell_type": "code",
   "execution_count": 99,
   "id": "0b376a6f-e003-409d-889c-dba4093dd8cd",
   "metadata": {},
   "outputs": [
    {
     "data": {
      "text/plain": [
       "'hello'"
      ]
     },
     "execution_count": 99,
     "metadata": {},
     "output_type": "execute_result"
    }
   ],
   "source": [
    "d = {'simple_key':'hello'}\n",
    "# Grab 'hello'\n",
    "d['simple_key']"
   ]
  },
  {
   "cell_type": "code",
   "execution_count": 113,
   "id": "431e193f-5ec0-45ec-8648-720e7b7cd961",
   "metadata": {},
   "outputs": [],
   "source": [
    "poi=set('2 34 432 3 4 1  2 2')"
   ]
  },
  {
   "cell_type": "code",
   "execution_count": 115,
   "id": "582dabf4-a0c8-4db2-9da0-675f2f963027",
   "metadata": {},
   "outputs": [
    {
     "data": {
      "text/plain": [
       "{' ', '1', '2', '3', '4'}"
      ]
     },
     "execution_count": 115,
     "metadata": {},
     "output_type": "execute_result"
    }
   ],
   "source": [
    "poi"
   ]
  },
  {
   "cell_type": "code",
   "execution_count": 117,
   "id": "ba98edcb-eb9c-4e69-bb4c-69e7c51b5d20",
   "metadata": {},
   "outputs": [],
   "source": [
    "list5 = [1,2,2,33,4,4,11,22,3,3,2]"
   ]
  },
  {
   "cell_type": "code",
   "execution_count": 119,
   "id": "e7eff739-b412-45a9-aa09-1835cb79366b",
   "metadata": {},
   "outputs": [
    {
     "data": {
      "text/plain": [
       "[1, 2, 2, 33, 4, 4, 11, 22, 3, 3, 2]"
      ]
     },
     "execution_count": 119,
     "metadata": {},
     "output_type": "execute_result"
    }
   ],
   "source": [
    "list5 "
   ]
  },
  {
   "cell_type": "code",
   "execution_count": 125,
   "id": "d3fa1f01-24d4-4db9-98c7-7da7276afe90",
   "metadata": {},
   "outputs": [
    {
     "data": {
      "text/plain": [
       "{',', '1', '2', '3', '4'}"
      ]
     },
     "execution_count": 125,
     "metadata": {},
     "output_type": "execute_result"
    }
   ],
   "source": [
    "set('1,2,2,33,4,4,11,22,3,3,2')"
   ]
  },
  {
   "cell_type": "code",
   "execution_count": 135,
   "id": "fb3288da-d10e-4982-ae27-76c88318ec7f",
   "metadata": {},
   "outputs": [
    {
     "data": {
      "text/plain": [
       "False"
      ]
     },
     "execution_count": 135,
     "metadata": {},
     "output_type": "execute_result"
    }
   ],
   "source": [
    "# two nested lists\n",
    "l_one = [1,2,[5,4]]\n",
    "l_two = [1,2,{'k1':4}]\n",
    "\n",
    "# True or False?\n",
    "l_one[2][0] <=l_two[2]['k1']"
   ]
  },
  {
   "cell_type": "code",
   "execution_count": 137,
   "id": "8abc378a-d9ea-4e90-be42-1d96bc1c1514",
   "metadata": {},
   "outputs": [
    {
     "data": {
      "text/plain": [
       "{1, 2, 3, 4, 11, 22, 33}"
      ]
     },
     "execution_count": 137,
     "metadata": {},
     "output_type": "execute_result"
    }
   ],
   "source": [
    "set(list5)"
   ]
  },
  {
   "cell_type": "code",
   "execution_count": null,
   "id": "b81d9faa-1898-4767-9ce9-81b031580ccb",
   "metadata": {},
   "outputs": [],
   "source": []
  }
 ],
 "metadata": {
  "kernelspec": {
   "display_name": "Python 3 (ipykernel)",
   "language": "python",
   "name": "python3"
  },
  "language_info": {
   "codemirror_mode": {
    "name": "ipython",
    "version": 3
   },
   "file_extension": ".py",
   "mimetype": "text/x-python",
   "name": "python",
   "nbconvert_exporter": "python",
   "pygments_lexer": "ipython3",
   "version": "3.12.7"
  }
 },
 "nbformat": 4,
 "nbformat_minor": 5
}

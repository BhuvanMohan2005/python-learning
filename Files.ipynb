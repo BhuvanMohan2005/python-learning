{
 "cells": [
  {
   "cell_type": "code",
   "execution_count": null,
   "id": "83f020bf-d2d5-43cb-86f9-65c03cca3004",
   "metadata": {},
   "outputs": [],
   "source": [
    "pwd\n"
   ]
  },
  {
   "cell_type": "code",
   "execution_count": 203,
   "id": "f2525576-a40a-4fb0-873e-0b2ef995645d",
   "metadata": {},
   "outputs": [
    {
     "ename": "",
     "evalue": "",
     "output_type": "error",
     "traceback": [
      "\u001b[1;31mRunning cells with 'Python 3.13.1' requires the ipykernel package.\n",
      "\u001b[1;31mRun the following command to install 'ipykernel' into the Python environment. \n",
      "\u001b[1;31mCommand: '/opt/homebrew/bin/python3 -m pip install ipykernel -U --user --force-reinstall'"
     ]
    }
   ],
   "source": [
    "myfile=open('myfile.txt')"
   ]
  },
  {
   "cell_type": "code",
   "execution_count": 205,
   "id": "7fab36c9-71dd-4285-95e3-a175db29f6e3",
   "metadata": {},
   "outputs": [
    {
     "data": {
      "text/plain": [
       "'this is my file \\nthis is the first line \\nand this  is the 2nd line\\n'"
      ]
     },
     "execution_count": 205,
     "metadata": {},
     "output_type": "execute_result"
    }
   ],
   "source": [
    "myfile.read()"
   ]
  },
  {
   "cell_type": "code",
   "execution_count": 207,
   "id": "83841f8a-7e29-4095-a2cd-304f80aa04d0",
   "metadata": {},
   "outputs": [
    {
     "data": {
      "text/plain": [
       "''"
      ]
     },
     "execution_count": 207,
     "metadata": {},
     "output_type": "execute_result"
    }
   ],
   "source": [
    "myfile.read()"
   ]
  },
  {
   "cell_type": "code",
   "execution_count": 209,
   "id": "d6477ac2-3e3f-4d3d-920b-5c48970cca79",
   "metadata": {},
   "outputs": [
    {
     "data": {
      "text/plain": [
       "0"
      ]
     },
     "execution_count": 209,
     "metadata": {},
     "output_type": "execute_result"
    }
   ],
   "source": [
    "myfile.seek(0)"
   ]
  },
  {
   "cell_type": "code",
   "execution_count": 211,
   "id": "b3d31b2e-afed-4ee0-a819-ed48ac3e7328",
   "metadata": {},
   "outputs": [],
   "source": [
    "contents=myfile.read()"
   ]
  },
  {
   "cell_type": "code",
   "execution_count": 213,
   "id": "415e1f56-135d-4d9c-90b2-95574abfd643",
   "metadata": {},
   "outputs": [
    {
     "data": {
      "text/plain": [
       "'this is my file \\nthis is the first line \\nand this  is the 2nd line\\n'"
      ]
     },
     "execution_count": 213,
     "metadata": {},
     "output_type": "execute_result"
    }
   ],
   "source": [
    "contents\n"
   ]
  },
  {
   "cell_type": "code",
   "execution_count": 215,
   "id": "2f2d1034-c705-4e3e-bbab-aef7ebe202d9",
   "metadata": {},
   "outputs": [
    {
     "data": {
      "text/plain": [
       "[]"
      ]
     },
     "execution_count": 215,
     "metadata": {},
     "output_type": "execute_result"
    }
   ],
   "source": [
    "myfile.readlines()"
   ]
  },
  {
   "cell_type": "code",
   "execution_count": 217,
   "id": "eb3c0851-94ec-4af9-882c-91cd0ed77231",
   "metadata": {},
   "outputs": [
    {
     "data": {
      "text/plain": [
       "0"
      ]
     },
     "execution_count": 217,
     "metadata": {},
     "output_type": "execute_result"
    }
   ],
   "source": [
    "myfile.seek(0)"
   ]
  },
  {
   "cell_type": "code",
   "execution_count": 219,
   "id": "f6320df0-734a-44b7-8f21-2969b7eb6876",
   "metadata": {},
   "outputs": [
    {
     "data": {
      "text/plain": [
       "['this is my file \\n',\n",
       " 'this is the first line \\n',\n",
       " 'and this  is the 2nd line\\n']"
      ]
     },
     "execution_count": 219,
     "metadata": {},
     "output_type": "execute_result"
    }
   ],
   "source": [
    "myfile.readlines()"
   ]
  },
  {
   "cell_type": "code",
   "execution_count": 221,
   "id": "17283a9e-7c2d-4800-acc8-8868acc963bf",
   "metadata": {},
   "outputs": [
    {
     "data": {
      "text/plain": [
       "'/Users/hemasundhar/Python'"
      ]
     },
     "execution_count": 221,
     "metadata": {},
     "output_type": "execute_result"
    }
   ],
   "source": [
    "pwd"
   ]
  },
  {
   "cell_type": "code",
   "execution_count": 223,
   "id": "2a276bf4-14d6-497d-9ef8-3f3aab3e2923",
   "metadata": {},
   "outputs": [],
   "source": [
    "myfile.close()"
   ]
  },
  {
   "cell_type": "code",
   "execution_count": 225,
   "id": "faf7b2d9-68c2-466c-b34b-53de59ac5770",
   "metadata": {},
   "outputs": [],
   "source": [
    "with open('myfile.txt') as mynewfile:\n",
    "    contents = mynewfile.read()\n",
    "    "
   ]
  },
  {
   "cell_type": "code",
   "execution_count": 227,
   "id": "54b769b0-98d1-41c3-aef7-3682996aad85",
   "metadata": {},
   "outputs": [
    {
     "data": {
      "text/plain": [
       "'this is my file \\nthis is the first line \\nand this  is the 2nd line\\n'"
      ]
     },
     "execution_count": 227,
     "metadata": {},
     "output_type": "execute_result"
    }
   ],
   "source": [
    "contents"
   ]
  },
  {
   "cell_type": "code",
   "execution_count": 229,
   "id": "565d8b3a-8fea-443f-a283-f2b73353dd71",
   "metadata": {},
   "outputs": [
    {
     "name": "stdout",
     "output_type": "stream",
     "text": [
      "this is my file \n",
      "this is the first line \n",
      "and this  is the 2nd line\n",
      "\n"
     ]
    }
   ],
   "source": [
    "with open('myfile.txt',mode='r') as mynewfile:\n",
    "    contents = mynewfile.read()"
   ]
  },
  {
   "cell_type": "code",
   "execution_count": 242,
   "id": "a23aba2c-3539-47ac-b4fc-940555d89002",
   "metadata": {},
   "outputs": [],
   "source": [
    "with open ('myfile.txt',mode='a') as mynewfile:\n",
    "    mynewfile.write('I love you')"
   ]
  },
  {
   "cell_type": "code",
   "execution_count": 244,
   "id": "93304913-b0b0-4360-a64c-7daf4ca48c30",
   "metadata": {},
   "outputs": [],
   "source": [
    "with open('myfile.txt',mode='r') as mynewfile:\n",
    "    contents = mynewfile.read()"
   ]
  },
  {
   "cell_type": "code",
   "execution_count": 246,
   "id": "a552d735-acaa-4eb0-8292-8d49c0a99ea9",
   "metadata": {},
   "outputs": [
    {
     "data": {
      "text/plain": [
       "'this is my file \\nthis is the first line \\nand this  is the 2nd line\\nI love youI love you'"
      ]
     },
     "execution_count": 246,
     "metadata": {},
     "output_type": "execute_result"
    }
   ],
   "source": [
    "contents\n"
   ]
  },
  {
   "cell_type": "code",
   "execution_count": null,
   "id": "f49986cc-8853-4a4c-b900-a22de2cf7813",
   "metadata": {},
   "outputs": [],
   "source": []
  },
  {
   "cell_type": "code",
   "execution_count": null,
   "id": "a0990eb0-ed98-45b5-b098-1a07d0ae585b",
   "metadata": {},
   "outputs": [],
   "source": []
  }
 ],
 "metadata": {
  "kernelspec": {
   "display_name": "Python 3",
   "language": "python",
   "name": "python3"
  },
  "language_info": {
   "codemirror_mode": {
    "name": "ipython",
    "version": 3
   },
   "file_extension": ".py",
   "mimetype": "text/x-python",
   "name": "python",
   "nbconvert_exporter": "python",
   "pygments_lexer": "ipython3",
   "version": "3.13.1"
  }
 },
 "nbformat": 4,
 "nbformat_minor": 5
}
